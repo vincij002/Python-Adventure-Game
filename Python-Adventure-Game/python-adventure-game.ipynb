{
 "cells": [
  {
   "cell_type": "code",
   "execution_count": 37,
   "metadata": {},
   "outputs": [],
   "source": [
    "# Going to first welcome our user to our MAZE GAME with a simple print statement"
   ]
  },
  {
   "cell_type": "code",
   "execution_count": 31,
   "metadata": {},
   "outputs": [
    {
     "name": "stdout",
     "output_type": "stream",
     "text": [
      " Welcome to the hanuted maze!\n"
     ]
    }
   ],
   "source": [
    "print(\" Welcome to the haunted maze!\")"
   ]
  },
  {
   "cell_type": "code",
   "execution_count": null,
   "metadata": {},
   "outputs": [],
   "source": [
    "# Next we are going to introduce our player to the backstory of the game to set the ambiance and make them feel as if they are really there."
   ]
  },
  {
   "cell_type": "code",
   "execution_count": 32,
   "metadata": {},
   "outputs": [
    {
     "name": "stdout",
     "output_type": "stream",
     "text": [
      " You find yourself standing at the entrance of an eerie maze in the middle of the night. The moon casts an unsettling glow on the twisted \n",
      " hedges that seem to reach out like skeletal fingers. A chilling wind whispers through the narrow pathways, carrying with it a sense of \n",
      " foreboding. You have no choice but to navigate through the maze, hoping to reach the other side unscathed.\n"
     ]
    }
   ],
   "source": [
    "print(\" You find yourself standing at the entrance of an eerie maze in the middle of the night. The moon casts an unsettling glow on the twisted \\n hedges that seem to reach out like skeletal fingers. A chilling wind whispers through the narrow pathways, carrying with it a sense of \\n foreboding. You have no choice but to navigate through the maze, hoping to reach the other side unscathed.\")\n"
   ]
  },
  {
   "cell_type": "code",
   "execution_count": null,
   "metadata": {},
   "outputs": [],
   "source": [
    "# Here we introduce the first choice to our user with a simple input function where we will ask our player to make their first desicion either going left or going right."
   ]
  },
  {
   "cell_type": "code",
   "execution_count": 33,
   "metadata": {},
   "outputs": [],
   "source": [
    "choice1 = input('You stand at the entrance, facing two paths. To the left, the path is dimly lit, with a faint glow in the distance. To the right, the shadows grow darker, shrouding the path in mystery. Which way will you choose? Type \"left\" or \"right\" \\n').lower()\n"
   ]
  },
  {
   "cell_type": "code",
   "execution_count": null,
   "metadata": {},
   "outputs": [],
   "source": [
    "# In this series of code, it will alow our player to successfully follow along, and when run will create new choices or outcomes depending on what th eplayer chooses. "
   ]
  },
  {
   "cell_type": "code",
   "execution_count": 36,
   "metadata": {},
   "outputs": [
    {
     "name": "stdout",
     "output_type": "stream",
     "text": [
      "You walk face first into the maze maybe choose the other direction?\n"
     ]
    }
   ],
   "source": [
    "if choice1 == \"left\":\n",
    "  choice2 = input('You find yourself in a beautiful garden with a swan fountain. You notice the swans eyes are made of saphires. Do you choose to steal the saphire? Type \"yes\" or \"no\".\\n').lowercase()\n",
    "  if choice2 == \"no\":\n",
    "    choice3 = input('The ghost of the man who maintained the maze appears and is impressed with your choice he has agreed to help you. He offers 3 items to help you escape. A live grenade, a jetpack, and finally in exchange for your release the ghost requests your SSN. Which do you chose? \\n').lowercase()\n",
    "    if choice3 == \"a live grenande\":\n",
    "      print(\"You accepted a live grenade from a ghost? That was not smart, you sadly pass.\")\n",
    "    elif choice3 == \"offer your SSN\":\n",
    "      print(\"The ghost stole your SSN, identity and ruined your credit.\")\n",
    "    elif choice3 == \"jetpack\":\n",
    "      print(\"Congratulations you've escaped the maze!\")\n",
    "    else:\n",
    "      print(\"You were indecive and the ghost lost patients. You're trapped forever.\")\n",
    "  else:\n",
    "    print(\"For your thievery you fell into a trap door and you are stuck there for all eternity.\")\n",
    "else:\n",
    "  print(\"You walk face first into the maze maybe choose the other direction?\")\n",
    "\n"
   ]
  },
  {
   "cell_type": "code",
   "execution_count": null,
   "metadata": {},
   "outputs": [],
   "source": []
  }
 ],
 "metadata": {
  "kernelspec": {
   "display_name": "Python 3",
   "language": "python",
   "name": "python3"
  },
  "language_info": {
   "codemirror_mode": {
    "name": "ipython",
    "version": 3
   },
   "file_extension": ".py",
   "mimetype": "text/x-python",
   "name": "python",
   "nbconvert_exporter": "python",
   "pygments_lexer": "ipython3",
   "version": "3.10.7"
  }
 },
 "nbformat": 4,
 "nbformat_minor": 2
}
